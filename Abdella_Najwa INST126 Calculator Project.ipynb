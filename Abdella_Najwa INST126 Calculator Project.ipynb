{
 "cells": [
  {
   "cell_type": "code",
   "execution_count": 11,
   "metadata": {
    "scrolled": true
   },
   "outputs": [
    {
     "name": "stdout",
     "output_type": "stream",
     "text": [
      "What operation would you like to use: percentage\n",
      "Enter a number: 8\n",
      "Enter a percentage without percent sign: 2\n",
      "2.0 Percent of  8.0 is 0.16\n"
     ]
    }
   ],
   "source": [
    "operation = input('What operation would you like to use: ') #Asking user what type of operator they want to use\n",
    "#These are the 4 operator options for the users to pick from\n",
    "addition = '+' \n",
    "subtraction = '-'\n",
    "multiplication = '*'\n",
    "division = '//'\n",
    "exponential = '**'\n",
    "percentage = '*//100'\n",
    "    \n",
    "if operation == 'addition':#If their operator input is addition, \n",
    "    num1 = float(input('Enter a number: ')) #it will ask them to input a number\n",
    "    num2 = float(input('Enter another number: ')) #it will ask them to input another number\n",
    "    num3 = float(input('Enter a third number, if not enter 0: '))#It will allow users to input a third value, if not they can enter 0\n",
    "    result = num1 + num2 + num3 #it will add the two values\n",
    "    print(result)#then, it will print the result\n",
    "elif operation == 'subtraction':#If their operator input is subtraction,\n",
    "    num1 = float(input('Enter a number: '))#it will ask them to input a number\n",
    "    num2 = float(input('Enter another number: '))#it will ask them to input another number\n",
    "    num3 = float(input('Enter a third number, if not enter 0: '))#It will allow users to input a third value, if not they can enter 0\n",
    "    result = num1 - num2 - num3 #it will subtract the two values\n",
    "    print(result)#then, it will print the result\n",
    "elif operation == 'multiplication':#If their operator input is multiplication,\n",
    "    num1 = float(input('Enter a number: '))#it will ask them to input a number\n",
    "    num2 = float(input('Enter another number: '))#it will ask them to input another number\n",
    "    num3 = float(input('Enter a third number, if not enter 1: '))#It will allow users to input a third value, if not user can enter 1\n",
    "    result = num1 * num2 * num3#it will multiply the two values\n",
    "    print(result)#then, it will print the result\n",
    "elif operation == 'division':#If their operator input is division,\n",
    "    num1 = float(input('Enter a number: '))#it will ask them to input a number\n",
    "    num2 = float(input('Enter another number: '))#it will ask them to input another number\n",
    "    result = num1 / num2 #it will divide the two values\n",
    "    print(result)#then, it will print the result\n",
    "elif operation == 'exponential':#If their operator input is exponential,\n",
    "    num1 = float(input('Enter a number: '))#it will ask them to input a number\n",
    "    num2 = float(input('Enter a power: '))#it will ask them to input another number\n",
    "    result = num1 ** num2 #it will divide the two values\n",
    "    print(result)#then, it will print the result\n",
    "elif operation == 'percentage':#If their operator input is percentage,\n",
    "    num1 = float(input('Enter a number: '))#it will ask them to input a number\n",
    "    num2 = float(input('Enter a percentage without percent sign: '))#it will ask them to input percentage they are looking for\n",
    "    result = num1 * num2 / 100 #it will multiply the two input values then divide it by 100 to find percentage\n",
    "    print(num2, 'Percent of ', num1, 'is', result)#then, it will print the user's 2nd input\n",
    "else:#if the user inputs any other operator besides the above five,\n",
    "    print('Invalid operator')#it will tell user that their operator input is invalid\n",
    "    "
   ]
  },
  {
   "cell_type": "code",
   "execution_count": null,
   "metadata": {},
   "outputs": [],
   "source": []
  },
  {
   "cell_type": "code",
   "execution_count": null,
   "metadata": {},
   "outputs": [],
   "source": []
  }
 ],
 "metadata": {
  "kernelspec": {
   "display_name": "Python 3",
   "language": "python",
   "name": "python3"
  },
  "language_info": {
   "codemirror_mode": {
    "name": "ipython",
    "version": 3
   },
   "file_extension": ".py",
   "mimetype": "text/x-python",
   "name": "python",
   "nbconvert_exporter": "python",
   "pygments_lexer": "ipython3",
   "version": "3.8.5"
  }
 },
 "nbformat": 4,
 "nbformat_minor": 4
}
